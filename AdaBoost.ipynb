{
  "nbformat": 4,
  "nbformat_minor": 0,
  "metadata": {
    "colab": {
      "name": "AdaBoost - Pranav",
      "provenance": [],
      "collapsed_sections": []
    },
    "kernelspec": {
      "name": "python3",
      "display_name": "Python 3"
    },
    "language_info": {
      "name": "python"
    }
  },
  "cells": [
    {
      "cell_type": "code",
      "metadata": {
        "id": "uITAjlbB6LH2"
      },
      "source": [
        "import pandas as pd\n",
        "import numpy as np\n",
        "import math\n",
        "import timeit\n",
        "import matplotlib.pyplot as plt\n",
        "from six.moves import cPickle as pickle\n",
        "import os\n",
        "import platform\n",
        "import pickle\n",
        "from subprocess import check_output\n",
        "from sklearn.preprocessing import OneHotEncoder\n",
        "from sklearn.ensemble import AdaBoostClassifier\n",
        "from sklearn.tree import DecisionTreeClassifier\n",
        "from sklearn.metrics import (precision_score, recall_score, \n",
        "                             roc_auc_score, f1_score, \n",
        "                             plot_confusion_matrix, ConfusionMatrixDisplay, roc_curve)\n",
        "\n",
        "%matplotlib inline"
      ],
      "execution_count": 24,
      "outputs": []
    },
    {
      "cell_type": "code",
      "source": [
        "pwd\n"
      ],
      "metadata": {
        "colab": {
          "base_uri": "https://localhost:8080/",
          "height": 36
        },
        "id": "TXx9t9gnWGbU",
        "outputId": "d9d340db-27a1-4eb8-d364-ec69f8ee475d"
      },
      "execution_count": 25,
      "outputs": [
        {
          "output_type": "execute_result",
          "data": {
            "application/vnd.google.colaboratory.intrinsic+json": {
              "type": "string"
            },
            "text/plain": [
              "'/content/drive/My Drive/UofT/Fall 21/Courses/CSC2515/CSC2515 Project'"
            ]
          },
          "metadata": {},
          "execution_count": 25
        }
      ]
    },
    {
      "cell_type": "code",
      "source": [
        "# Change to the directory containing files downloaded from https://www.cs.toronto.edu/~kriz/cifar.html\n",
        "#cd ...."
      ],
      "metadata": {
        "colab": {
          "base_uri": "https://localhost:8080/"
        },
        "id": "kJ3zmEWJWHtQ",
        "outputId": "82d51448-1a2a-40e9-a7e8-fa009fe78962"
      },
      "execution_count": 26,
      "outputs": [
        {
          "output_type": "stream",
          "name": "stdout",
          "text": [
            "/content/drive/MyDrive/UofT/Fall 21/Courses/CSC2515/CSC2515 Project\n"
          ]
        }
      ]
    },
    {
      "cell_type": "markdown",
      "source": [
        "## Data Preprocessing  "
      ],
      "metadata": {
        "id": "ZZ66SxYjljV5"
      }
    },
    {
      "cell_type": "code",
      "metadata": {
        "id": "2eYjwHhnGJLP"
      },
      "source": [
        "def load_label_names(ROOT):\n",
        "  file = os.path.join(ROOT, 'batches.meta')\n",
        "  with open(file, 'rb') as fo:\n",
        "        dict = pickle.load(fo, encoding='latin-1')\n",
        "  label_names=dict['label_names']\n",
        "  return label_names"
      ],
      "execution_count": 27,
      "outputs": []
    },
    {
      "cell_type": "code",
      "metadata": {
        "id": "OxQdhnGB-M9A"
      },
      "source": [
        "img_rows, img_cols = 32, 32\n",
        "input_shape = (img_rows, img_cols, 3)\n",
        "def load_pickle(f):\n",
        "    version = platform.python_version_tuple()\n",
        "    if version[0] == '2':\n",
        "        return  pickle.load(f)\n",
        "    elif version[0] == '3':\n",
        "        return  pickle.load(f, encoding='latin1')\n",
        "    raise ValueError(\"invalid python version: {}\".format(version))\n",
        "\n",
        "def load_CIFAR_batch(filename):\n",
        "    \"\"\" load single batch of cifar \"\"\"\n",
        "    with open(filename, 'rb') as f:\n",
        "        datadict = load_pickle(f)\n",
        "        X = datadict['data']\n",
        "        Y = datadict['labels']\n",
        "        X = X.reshape(10000,3072)\n",
        "        Y = np.array(Y)\n",
        "        return X, Y\n",
        "\n",
        "def load_CIFAR10(ROOT):\n",
        "    \"\"\" load all of cifar \"\"\"\n",
        "    xs = []\n",
        "    ys = []\n",
        "    for b in range(1,6):\n",
        "        f = os.path.join(ROOT, 'data_batch_%d' % (b, ))\n",
        "        X, Y = load_CIFAR_batch(f)\n",
        "        xs.append(X)\n",
        "        ys.append(Y)\n",
        "    Xtr = np.concatenate(xs)\n",
        "    Ytr = np.concatenate(ys)\n",
        "    del X, Y\n",
        "    Xte, Yte = load_CIFAR_batch(os.path.join(ROOT, 'test_batch'))\n",
        "    return Xtr, Ytr, Xte, Yte\n",
        "\n",
        "def get_CIFAR10_data(num_training=20000, num_validation=8500, num_test=10000, valid=False):\n",
        "    # Load the raw CIFAR-10 data\n",
        "    cifar10_dir = 'cifar-10-batches-py/'\n",
        "    X_train, y_train, X_test, y_test = load_CIFAR10(cifar10_dir)\n",
        "\n",
        "    if valid == False:\n",
        "      X_train = X_train.astype('float32')\n",
        "      X_test = X_test.astype('float32')\n",
        "\n",
        "      X_train /= 255\n",
        "      X_test /= 255\n",
        "      return X_train, y_train, X_test, y_test\n",
        "\n",
        "    else:\n",
        "      # Subsample the data\n",
        "      mask = range(X_train.shape[0]-num_validation, X_train.shape[0])\n",
        "      X_val = X_train[mask]\n",
        "      y_val = y_train[mask]\n",
        "      mask = range(num_training)\n",
        "      X_train = X_train[mask]\n",
        "      y_train = y_train[mask]\n",
        "      mask = range(num_test)\n",
        "      X_test = X_test[mask]\n",
        "      y_test = y_test[mask]\n",
        "\n",
        "      X_train = X_train.astype('float32')\n",
        "      X_test = X_test.astype('float32')\n",
        "\n",
        "      X_train /= 255\n",
        "      X_test /= 255\n",
        "      return X_train, y_train, X_val, y_val, X_test, y_test"
      ],
      "execution_count": 45,
      "outputs": []
    },
    {
      "cell_type": "markdown",
      "metadata": {
        "id": "CaHHci3qTzs5"
      },
      "source": [
        "AdaBoost Classifier"
      ]
    },
    {
      "cell_type": "code",
      "metadata": {
        "id": "lkJD_i8_Giio"
      },
      "source": [
        "def AB_Classifier(train_data, train_labels, test_data, test_labels):\n",
        "  model_cv = AdaBoostClassifier(base_estimator = DecisionTreeClassifier())\n",
        "\n",
        "  # Training AdaBoost\n",
        "  start = timeit.default_timer()\n",
        "  model_cv.fit(train_data, train_labels)\n",
        "  stop = timeit.default_timer()\n",
        "  print('Training Time:', stop-start)\n",
        "\n",
        "  # Prediction using AdaBoost\n",
        "  start = timeit.default_timer()\n",
        "  y_pred = model_cv.predict(test_data)\n",
        "  stop = timeit.default_timer()\n",
        "  print('Inference Time:', stop-start)\n",
        "  # print(\"Prediction Probability:\",model_cv.predict_proba(test_data))\n",
        "  eval_metrics(test_labels, y_pred, pred_prob=model_cv.predict_proba(test_data))\n",
        "  plot_confusion_matrix(model_cv, test_data, test_labels)\n",
        "  plt.show()  \n"
      ],
      "execution_count": 52,
      "outputs": []
    },
    {
      "cell_type": "markdown",
      "metadata": {
        "id": "NP8emhsFXETc"
      },
      "source": [
        "Evaluating"
      ]
    },
    {
      "cell_type": "code",
      "metadata": {
        "id": "Ent14zQnVZ3Y"
      },
      "source": [
        "def eval_metrics(true, pred, pred_prob=None):\n",
        "  \n",
        "    print(\"Accuracy:\",(true==pred).mean())\n",
        "    print(\"Precision:\", precision_score(true, pred, average='macro'))\n",
        "    print(\"Recall:\", recall_score(true, pred, average='macro'))\n",
        "    print(\"f1:\", f1_score(true, pred, average='macro'))\n"
      ],
      "execution_count": 53,
      "outputs": []
    },
    {
      "cell_type": "code",
      "metadata": {
        "id": "pwuBEo56XKsh"
      },
      "source": [
        " def eval_loss(train_losses, test_losses):\n",
        "\n",
        "   plt.plot(train_losses, label= \"Training loss\")\n",
        "   plt.plot(test_losses, label= \"Test loss\")\n",
        "   plt.legend()\n"
      ],
      "execution_count": 54,
      "outputs": []
    },
    {
      "cell_type": "code",
      "metadata": {
        "id": "MGdHK8N3XBne"
      },
      "source": [
        " def eval_accuracy( train_correct, test_correct):\n",
        "\n",
        "   train_accuracy =[t/500 for t in train_correct ] \n",
        "   test_accuracy =[t/100 for t in test_correct ] \n",
        "   plt.plot(train_accuracy, label= \"Training accuracy\")\n",
        "   plt.plot(test_accuracy, label= \"Test accuracy\")\n",
        "   plt.legend()"
      ],
      "execution_count": 55,
      "outputs": []
    },
    {
      "cell_type": "markdown",
      "source": [
        "## Main Method"
      ],
      "metadata": {
        "id": "XtLruw3el7_3"
      }
    },
    {
      "cell_type": "code",
      "metadata": {
        "id": "FTQOqwmnUAAi"
      },
      "source": [
        "def main():\n",
        "  # Invoke the above function to get our data.\n",
        "  x_train, y_train, x_val, y_val, x_test, y_test = get_CIFAR10_data(valid=True)\n",
        "\n",
        "  # Loading label names\n",
        "  label_names = load_label_names('cifar-10-batches-py/')\n",
        "\n",
        "  print('\\nTrain data shape: ', x_train.shape)\n",
        "  print('Train labels shape: ', y_train.shape)\n",
        "  print('Validation data shape: ', x_val.shape)\n",
        "  print('Validation labels shape: ', y_val.shape)\n",
        "  print('Test data shape: ', x_test.shape)\n",
        "  print('Test labels shape: ', y_test.shape)\n",
        "\n",
        "  # AdaBoost Classifier\n",
        "  AB_Classifier(x_train, y_train, x_test, y_test)\n"
      ],
      "execution_count": 56,
      "outputs": []
    },
    {
      "cell_type": "code",
      "metadata": {
        "id": "4n5g9zbwNzEl",
        "colab": {
          "base_uri": "https://localhost:8080/",
          "height": 587
        },
        "outputId": "7a0521bb-de8f-4959-8128-2ce3e1e68c5a"
      },
      "source": [
        "if __name__ == '__main__':\n",
        "    main()"
      ],
      "execution_count": 57,
      "outputs": [
        {
          "output_type": "stream",
          "name": "stdout",
          "text": [
            "\n",
            "Train data shape:  (20000, 3072)\n",
            "Train labels shape:  (20000,)\n",
            "Validation data shape:  (8500, 3072)\n",
            "Validation labels shape:  (8500,)\n",
            "Test data shape:  (10000, 3072)\n",
            "Test labels shape:  (10000,)\n",
            "Training Time: 85.07919220799977\n",
            "Inference Time: 0.070449816999826\n",
            "Accuracy: 0.2559\n",
            "Precision: 0.2563373620514874\n",
            "Recall: 0.2559\n",
            "f1: 0.2558365216563466\n"
          ]
        },
        {
          "output_type": "stream",
          "name": "stderr",
          "text": [
            "/usr/local/lib/python3.7/dist-packages/sklearn/utils/deprecation.py:87: FutureWarning: Function plot_confusion_matrix is deprecated; Function `plot_confusion_matrix` is deprecated in 1.0 and will be removed in 1.2. Use one of the class methods: ConfusionMatrixDisplay.from_predictions or ConfusionMatrixDisplay.from_estimator.\n",
            "  warnings.warn(msg, category=FutureWarning)\n"
          ]
        },
        {
          "output_type": "display_data",
          "data": {
            "image/png": "[encoded data removed]",
            "text/plain": [
              "<Figure size 432x288 with 2 Axes>"
            ]
          },
          "metadata": {
            "needs_background": "light"
          }
        }
      ]
    },
    {
      "cell_type": "code",
      "source": [
        ""
      ],
      "metadata": {
        "id": "P4JY6Pymn0Bb"
      },
      "execution_count": 57,
      "outputs": []
    }
  ]
}