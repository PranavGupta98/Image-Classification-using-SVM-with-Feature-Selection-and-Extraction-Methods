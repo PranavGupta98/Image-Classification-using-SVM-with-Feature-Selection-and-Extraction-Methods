{
  "metadata": {
    "kernelspec": {
      "language": "python",
      "display_name": "Python 3",
      "name": "python3"
    },
    "language_info": {
      "name": "python",
      "version": "3.7.12",
      "mimetype": "text/x-python",
      "codemirror_mode": {
        "name": "ipython",
        "version": 3
      },
      "pygments_lexer": "ipython3",
      "nbconvert_exporter": "python",
      "file_extension": ".py"
    },
    "colab": {
      "name": "Autoencoder with SVM",
      "provenance": [],
      "collapsed_sections": []
    }
  },
  "nbformat_minor": 0,
  "nbformat": 4,
  "cells": [
    {
      "cell_type": "code",
      "source": [
        "import numpy as np\n",
        "import pandas as pd\n",
        "import matplotlib.pyplot as plt\n",
        "import seaborn as sns\n",
        "import timeit\n",
        "import tensorflow as tf\n",
        "import keras.backend as K\n",
        "\n",
        "from keras.layers import Input, Dense, Dropout, Activation, Add, Concatenate, Conv2D, Conv2DTranspose, UpSampling2D, MaxPooling2D, MaxPool2D, Flatten, BatchNormalization\n",
        "from keras.models import Model, Sequential\n",
        "from keras.callbacks import ModelCheckpoint, ReduceLROnPlateau, EarlyStopping\n",
        "from tensorflow.keras.optimizers import SGD, Adam, RMSprop, Adadelta\n",
        "from keras.preprocessing import image\n",
        "from tensorflow.keras.utils import to_categorical\n",
        "from keras.datasets import cifar10\n",
        "\n",
        "from sklearn import metrics\n",
        "from sklearn.svm import SVC\n",
        "from sklearn.model_selection import train_test_split, GridSearchCV\n",
        "from sklearn.metrics import classification_report, accuracy_score,  roc_curve, auc, confusion_matrix \n",
        "from sklearn.preprocessing import MinMaxScaler, LabelBinarizer, RobustScaler, StandardScaler"
      ],
      "metadata": {
        "id": "1sAitbV_Ak63",
        "execution": {
          "iopub.status.busy": "2021-12-12T23:52:42.675850Z",
          "iopub.execute_input": "2021-12-12T23:52:42.676314Z",
          "iopub.status.idle": "2021-12-12T23:52:48.590729Z",
          "shell.execute_reply.started": "2021-12-12T23:52:42.676240Z",
          "shell.execute_reply": "2021-12-12T23:52:48.589999Z"
        },
        "trusted": true
      },
      "execution_count": 1,
      "outputs": []
    },
    {
      "cell_type": "code",
      "source": [
        "(X_train_images, y_train_labels), (X_test_images, y_test_labels) = cifar10.load_data()\n",
        "\n",
        "print('X_train_images.shape: ', X_train_images.shape)\n",
        "print('X_test_images.shape: ', X_test_images.shape)\n",
        "print('y_train_labels.shape: ', y_train_labels.shape)\n",
        "print('y_test_labels.shape: ', y_test_labels.shape)"
      ],
      "metadata": {
        "id": "KSOSh4cMAnQa",
        "execution": {
          "iopub.status.busy": "2021-12-12T23:52:48.592337Z",
          "iopub.execute_input": "2021-12-12T23:52:48.592589Z",
          "iopub.status.idle": "2021-12-12T23:52:54.318866Z",
          "shell.execute_reply.started": "2021-12-12T23:52:48.592554Z",
          "shell.execute_reply": "2021-12-12T23:52:54.318063Z"
        },
        "trusted": true,
        "colab": {
          "base_uri": "https://localhost:8080/"
        },
        "outputId": "0748aa73-8d2c-45dc-b9e1-d7845f403b30"
      },
      "execution_count": 2,
      "outputs": [
        {
          "output_type": "stream",
          "name": "stdout",
          "text": [
            "Downloading data from https://www.cs.toronto.edu/~kriz/cifar-10-python.tar.gz\n",
            "170500096/170498071 [==============================] - 12s 0us/step\n",
            "170508288/170498071 [==============================] - 12s 0us/step\n",
            "X_train_images.shape:  (50000, 32, 32, 3)\n",
            "X_test_images.shape:  (10000, 32, 32, 3)\n",
            "y_train_labels.shape:  (50000, 1)\n",
            "y_test_labels.shape:  (10000, 1)\n"
          ]
        }
      ]
    },
    {
      "cell_type": "code",
      "source": [
        "no_of_classes = 10\n",
        "dict = {0:'Airplane', 1:'Automobile', 2:'Bird', 3:'Cat', 4:'Deer', 5:'Dog', 6:'Frog', 7:'Horse', 8:'Ship', 9:'Truck'}\n",
        "img_width, img_height = 32, 32\n",
        "epochs = 100\n",
        "batch_size = 512\n",
        "\n",
        "if K.image_data_format()=='channels_first':\n",
        "    input_shape=(3, img_width, img_height)\n",
        "else:\n",
        "    input_shape=(img_width,img_height,3)"
      ],
      "metadata": {
        "id": "9WF2-KGgCf6S",
        "execution": {
          "iopub.status.busy": "2021-12-12T23:52:54.320067Z",
          "iopub.execute_input": "2021-12-12T23:52:54.320868Z",
          "iopub.status.idle": "2021-12-12T23:52:54.327718Z",
          "shell.execute_reply.started": "2021-12-12T23:52:54.320826Z",
          "shell.execute_reply": "2021-12-12T23:52:54.327003Z"
        },
        "trusted": true
      },
      "execution_count": 3,
      "outputs": []
    },
    {
      "cell_type": "code",
      "source": [
        "def preprocess_data(X_train_images, X_test_images, y_train_labels, y_test_labels, no_of_classes, val = False):\n",
        "  #normalize\n",
        "  X_train = X_train_images.astype('float32')/255.0\n",
        "  X_test = X_test_images.astype('float32')/255.0\n",
        "\n",
        "  if val == True:\n",
        "    \n",
        "    #split training data further into training and validation set\n",
        "    (X_train, X_valid) = X_train[:20000], X_train[-8500:]\n",
        "    (y_train_labels, y_valid_labels) = y_train_labels[:20000], y_train_labels[-8500:]\n",
        "\n",
        "    print('X_train.shape: ', X_train.shape)\n",
        "    print('X_valid.shape: ', X_valid.shape)\n",
        "    print('y_train_labels.shape: ', y_train_labels.shape)\n",
        "    print('y_valid_labels.shape: ', y_valid_labels.shape)\n",
        "    \n",
        "    # The target variable is converted to one-hot encoded data \n",
        "    y_train = to_categorical(y_train_labels, no_of_classes)\n",
        "    y_valid = to_categorical(y_valid_labels, no_of_classes)\n",
        "    y_test = to_categorical(y_test_labels, no_of_classes)\n",
        "    print('y_train.shape: ', y_train.shape)\n",
        "    print('y_test.shape: ', y_test.shape)\n",
        "    return ((X_train, y_train), (X_test, y_test), (X_valid, y_valid), (y_train_labels, y_test_labels))\n",
        "\n",
        "  else:\n",
        "    \n",
        "    print('X_train.shape: ', X_train.shape)\n",
        "    print('y_train_labels.shape: ', y_train_labels.shape)\n",
        "    \n",
        "    # The target variable is converted to one-hot encoded data \n",
        "    y_train = to_categorical(y_train_labels, no_of_classes)\n",
        "    y_test = to_categorical(y_test_labels, no_of_classes)\n",
        "    print('y_train.shape: ', y_train.shape)\n",
        "    print('y_test.shape: ', y_test.shape)\n",
        "    \n",
        "    return ((X_train, y_train), (X_test, y_test), (y_train_labels, y_test_labels))"
      ],
      "metadata": {
        "id": "KJeFTta7CY37",
        "execution": {
          "iopub.status.busy": "2021-12-12T23:52:54.329806Z",
          "iopub.execute_input": "2021-12-12T23:52:54.330162Z",
          "iopub.status.idle": "2021-12-12T23:52:54.338703Z",
          "shell.execute_reply.started": "2021-12-12T23:52:54.330100Z",
          "shell.execute_reply": "2021-12-12T23:52:54.337885Z"
        },
        "trusted": true
      },
      "execution_count": 4,
      "outputs": []
    },
    {
      "cell_type": "code",
      "source": [
        "(X_train, y_train), (X_test, y_test) , (y_train_labels,y_test_labels) = preprocess_data(X_train_images, X_test_images, y_train_labels, y_test_labels, no_of_classes, val = False)"
      ],
      "metadata": {
        "id": "cZdBoWI7Cl8S",
        "execution": {
          "iopub.status.busy": "2021-12-12T23:52:54.340641Z",
          "iopub.execute_input": "2021-12-12T23:52:54.341278Z",
          "iopub.status.idle": "2021-12-12T23:52:54.601785Z",
          "shell.execute_reply.started": "2021-12-12T23:52:54.341238Z",
          "shell.execute_reply": "2021-12-12T23:52:54.601047Z"
        },
        "trusted": true,
        "colab": {
          "base_uri": "https://localhost:8080/"
        },
        "outputId": "d39d1527-f1c1-45a9-c371-e3046e513e25"
      },
      "execution_count": 5,
      "outputs": [
        {
          "output_type": "stream",
          "name": "stdout",
          "text": [
            "X_train.shape:  (50000, 32, 32, 3)\n",
            "y_train_labels.shape:  (50000, 1)\n",
            "y_train.shape:  (50000, 10)\n",
            "y_test.shape:  (10000, 10)\n"
          ]
        }
      ]
    },
    {
      "cell_type": "code",
      "source": [
        "def create_block(input, chs): ## Convolution block of 1 layer\n",
        "    x = input\n",
        "    for i in range(1):\n",
        "        x = Conv2D(chs, 3, padding=\"same\", activation='relu')(x)\n",
        "        x = BatchNormalization()(x)\n",
        "    return x"
      ],
      "metadata": {
        "id": "2-8lkiTdrD4t",
        "execution": {
          "iopub.status.busy": "2021-12-12T23:52:54.603105Z",
          "iopub.execute_input": "2021-12-12T23:52:54.603560Z",
          "iopub.status.idle": "2021-12-12T23:52:54.608562Z",
          "shell.execute_reply.started": "2021-12-12T23:52:54.603519Z",
          "shell.execute_reply": "2021-12-12T23:52:54.607726Z"
        },
        "trusted": true
      },
      "execution_count": null,
      "outputs": []
    },
    {
      "cell_type": "code",
      "source": [
        "def showOrigDec(orig, dec, num=10):  ## function used for visualizing original and reconstructed images of the autoencoder model\n",
        "    n = num\n",
        "    plt.figure(figsize=(20, 4))\n",
        "\n",
        "    for i in range(n):\n",
        "        # display original\n",
        "        ax = plt.subplot(2, n, i+1)\n",
        "        plt.imshow(orig[300*i].reshape(32, 32, 3))\n",
        "        ax.get_xaxis().set_visible(False)\n",
        "        ax.get_yaxis().set_visible(False)\n",
        "\n",
        "        # display reconstruction\n",
        "        ax = plt.subplot(2, n, i +1 + n)\n",
        "        plt.imshow(dec[300*i].reshape(32, 32, 3))\n",
        "        ax.get_xaxis().set_visible(False)\n",
        "        ax.get_yaxis().set_visible(False)\n",
        "    plt.show()"
      ],
      "metadata": {
        "id": "LoIufr4ErGyH",
        "execution": {
          "iopub.status.busy": "2021-12-12T23:52:54.609806Z",
          "iopub.execute_input": "2021-12-12T23:52:54.610212Z",
          "iopub.status.idle": "2021-12-12T23:52:54.618464Z",
          "shell.execute_reply.started": "2021-12-12T23:52:54.610177Z",
          "shell.execute_reply": "2021-12-12T23:52:54.617650Z"
        },
        "trusted": true
      },
      "execution_count": null,
      "outputs": []
    },
    {
      "cell_type": "code",
      "source": [
        "def show_test(m, d):  ## function used for visualizing the predicted and true labels of test data\n",
        "    plt.figure(figsize =(40,8))\n",
        "    for i in range(5):\n",
        "        ax = plt.subplot(1, 5, i+1)\n",
        "        test_image = np.expand_dims(d[1810*i+5], axis=0)\n",
        "        test_result = m.predict(test_image)\n",
        "        plt.imshow(x_test_final[1810*i+5])\n",
        "        index = np.argsort(test_result[0,:])\n",
        "        plt.title(\"Pred:{}, True:{}\".format(dict[index[9]], dict[y_test_final[1810*i+5][0]]))\n",
        "    plt.show()"
      ],
      "metadata": {
        "id": "KjsD9XYOrIsd",
        "execution": {
          "iopub.status.busy": "2021-12-12T23:52:54.619833Z",
          "iopub.execute_input": "2021-12-12T23:52:54.620200Z",
          "iopub.status.idle": "2021-12-12T23:52:54.629704Z",
          "shell.execute_reply.started": "2021-12-12T23:52:54.620163Z",
          "shell.execute_reply": "2021-12-12T23:52:54.628995Z"
        },
        "trusted": true
      },
      "execution_count": null,
      "outputs": []
    },
    {
      "cell_type": "code",
      "source": [
        "def report(predictions): ## function used for creating a classification report and confusion matrix\n",
        "    cm=confusion_matrix(y_test_one_hot.argmax(axis=1), predictions.argmax(axis=1))\n",
        "    print(\"Classification Report:\\n\")\n",
        "    cr=classification_report(y_test_one_hot.argmax(axis=1),\n",
        "                                predictions.argmax(axis=1), \n",
        "                                target_names=list(dict.values()))\n",
        "    print(cr)\n",
        "    plt.figure(figsize=(12,12))\n",
        "    sns.heatmap(cm, annot=True, xticklabels = list(dict.values()), yticklabels = list(dict.values()), fmt=\"d\")"
      ],
      "metadata": {
        "id": "2lKXOHiRrMGO",
        "execution": {
          "iopub.status.busy": "2021-12-12T23:52:54.642395Z",
          "iopub.execute_input": "2021-12-12T23:52:54.644417Z",
          "iopub.status.idle": "2021-12-12T23:52:54.649842Z",
          "shell.execute_reply.started": "2021-12-12T23:52:54.644382Z",
          "shell.execute_reply": "2021-12-12T23:52:54.649185Z"
        },
        "trusted": true
      },
      "execution_count": null,
      "outputs": []
    },
    {
      "cell_type": "code",
      "source": [
        "def conv_ae():\n",
        "    input = Input((32,32,3))\n",
        "    \n",
        "    # Encoder\n",
        "    block1 = create_block(input, 8)\n",
        "    x = MaxPool2D(2)(block1)\n",
        "    block2 = create_block(x, 16)\n",
        "    x = MaxPool2D(2)(block2)\n",
        "    \n",
        "    #Middle\n",
        "    middle = create_block(x, 32)\n",
        "    \n",
        "    # Decoder\n",
        "    up1 = UpSampling2D((2,2))(middle)\n",
        "    block3 = create_block(up1, 16)\n",
        "    #up1 = UpSampling2D((2,2))(block3)\n",
        "    up2 = UpSampling2D((2,2))(block3)\n",
        "    block4 = create_block(up2, 8)\n",
        "    #up2 = UpSampling2D((2,2))(block4)\n",
        "    \n",
        "    # output\n",
        "    x = Conv2D(3, 1)(up2)\n",
        "    output = Activation(\"sigmoid\")(x)\n",
        "\n",
        "    return Model(input, middle), Model(input, output)"
      ],
      "metadata": {
        "id": "AlvgQbEPsdeV",
        "execution": {
          "iopub.status.busy": "2021-12-12T23:52:54.662025Z",
          "iopub.execute_input": "2021-12-12T23:52:54.662375Z",
          "iopub.status.idle": "2021-12-12T23:52:54.671785Z",
          "shell.execute_reply.started": "2021-12-12T23:52:54.662340Z",
          "shell.execute_reply": "2021-12-12T23:52:54.671084Z"
        },
        "trusted": true
      },
      "execution_count": null,
      "outputs": []
    },
    {
      "cell_type": "code",
      "source": [
        "def run_ae(m): ## function for running autoencoder\n",
        "  encoder, model = conv_ae()\n",
        "    \n",
        "  return encoder, model"
      ],
      "metadata": {
        "id": "eukOr1dBsmBI",
        "execution": {
          "iopub.status.busy": "2021-12-12T23:52:54.672929Z",
          "iopub.execute_input": "2021-12-12T23:52:54.673486Z",
          "iopub.status.idle": "2021-12-12T23:52:54.680098Z",
          "shell.execute_reply.started": "2021-12-12T23:52:54.673449Z",
          "shell.execute_reply": "2021-12-12T23:52:54.679417Z"
        },
        "trusted": true
      },
      "execution_count": null,
      "outputs": []
    },
    {
      "cell_type": "code",
      "source": [
        "encoder_ae, model_ae = run_ae('ae')\n",
        "model_ae.compile(optimizer = 'Adam', loss='mse')\n",
        "model_ae.summary()"
      ],
      "metadata": {
        "id": "jUg3aXkks62N",
        "execution": {
          "iopub.status.busy": "2021-12-12T23:53:11.593285Z",
          "iopub.execute_input": "2021-12-12T23:53:11.593544Z",
          "iopub.status.idle": "2021-12-12T23:53:11.705089Z",
          "shell.execute_reply.started": "2021-12-12T23:53:11.593516Z",
          "shell.execute_reply": "2021-12-12T23:53:11.704429Z"
        },
        "trusted": true
      },
      "execution_count": null,
      "outputs": []
    },
    {
      "cell_type": "code",
      "source": [
        "start = timeit.default_timer()\n",
        "history = model_ae.fit(X_train, X_train, \n",
        "                       batch_size=80,\n",
        "                       epochs=40,\n",
        "                       verbose=1,\n",
        "                       shuffle=True)\n",
        "stop = timeit.default_timer()\n",
        "print(history)\n",
        "print('Time to train Autoencoder:', stop-start)"
      ],
      "metadata": {
        "id": "e9LQi96Gs8JB",
        "execution": {
          "iopub.status.busy": "2021-12-12T23:54:57.828500Z",
          "iopub.execute_input": "2021-12-12T23:54:57.829241Z",
          "iopub.status.idle": "2021-12-12T23:57:23.431309Z",
          "shell.execute_reply.started": "2021-12-12T23:54:57.829205Z",
          "shell.execute_reply": "2021-12-12T23:57:23.430441Z"
        },
        "trusted": true
      },
      "execution_count": null,
      "outputs": []
    },
    {
      "cell_type": "code",
      "source": [
        "model_ae.save('model_AE.h5')"
      ],
      "metadata": {
        "id": "XSgkXCxuxMy0",
        "execution": {
          "iopub.status.busy": "2021-12-12T23:57:25.355343Z",
          "iopub.execute_input": "2021-12-12T23:57:25.355966Z",
          "iopub.status.idle": "2021-12-12T23:57:25.428706Z",
          "shell.execute_reply.started": "2021-12-12T23:57:25.355921Z",
          "shell.execute_reply": "2021-12-12T23:57:25.427718Z"
        },
        "trusted": true
      },
      "execution_count": null,
      "outputs": []
    },
    {
      "cell_type": "code",
      "source": [
        "plt.plot(history.history['loss'])\n",
        "plt.title('Model Loss')\n",
        "plt.ylabel('Loss')\n",
        "plt.xlabel('Epoch')\n",
        "plt.legend(['Train'], loc='lower right')\n",
        "plt.show()"
      ],
      "metadata": {
        "id": "2lhRJoKGtIBE",
        "execution": {
          "iopub.status.busy": "2021-12-12T23:57:25.778007Z",
          "iopub.execute_input": "2021-12-12T23:57:25.778683Z",
          "iopub.status.idle": "2021-12-12T23:57:26.024395Z",
          "shell.execute_reply.started": "2021-12-12T23:57:25.778637Z",
          "shell.execute_reply": "2021-12-12T23:57:26.023612Z"
        },
        "trusted": true
      },
      "execution_count": null,
      "outputs": []
    },
    {
      "cell_type": "code",
      "source": [
        "recon_test_ae = model_ae.predict(X_test)\n",
        "#recon_valid_ae = model_ae.predict(X_valid)"
      ],
      "metadata": {
        "id": "5SIbbyXY3Bi-",
        "execution": {
          "iopub.status.busy": "2021-12-12T23:57:29.519733Z",
          "iopub.execute_input": "2021-12-12T23:57:29.519992Z",
          "iopub.status.idle": "2021-12-12T23:57:30.648933Z",
          "shell.execute_reply.started": "2021-12-12T23:57:29.519961Z",
          "shell.execute_reply": "2021-12-12T23:57:30.648196Z"
        },
        "trusted": true
      },
      "execution_count": null,
      "outputs": []
    },
    {
      "cell_type": "code",
      "source": [
        "showOrigDec(X_test, recon_test_ae)"
      ],
      "metadata": {
        "id": "TJUMzoeI3CHM",
        "execution": {
          "iopub.status.busy": "2021-12-12T23:57:31.877354Z",
          "iopub.execute_input": "2021-12-12T23:57:31.878070Z",
          "iopub.status.idle": "2021-12-12T23:58:15.645572Z",
          "shell.execute_reply.started": "2021-12-12T23:57:31.878034Z",
          "shell.execute_reply": "2021-12-12T23:58:15.644197Z"
        },
        "trusted": true
      },
      "execution_count": null,
      "outputs": []
    },
    {
      "cell_type": "code",
      "source": [
        ""
      ],
      "metadata": {
        "id": "0DTvVIJOI9VI"
      },
      "execution_count": null,
      "outputs": []
    },
    {
      "cell_type": "markdown",
      "source": [
        "SVM"
      ],
      "metadata": {
        "id": "HlsbgYuzF8dQ"
      }
    },
    {
      "cell_type": "code",
      "source": [
        "# Data \n",
        "gist_train_ae = encoder_ae.predict(X_train)\n",
        "#gist_valid_ae = encoder_ae.predict(X_valid)\n",
        "gist_test_ae = encoder_ae.predict(X_test)"
      ],
      "metadata": {
        "id": "-_kw8g3bxnh7",
        "execution": {
          "iopub.status.busy": "2021-12-12T23:59:54.380429Z",
          "iopub.execute_input": "2021-12-12T23:59:54.381196Z",
          "iopub.status.idle": "2021-12-12T23:59:59.687613Z",
          "shell.execute_reply.started": "2021-12-12T23:59:54.381150Z",
          "shell.execute_reply": "2021-12-12T23:59:59.686810Z"
        },
        "trusted": true
      },
      "execution_count": null,
      "outputs": []
    },
    {
      "cell_type": "code",
      "source": [
        "svm_clf = SVC(C=10, gamma=0.1, kernel='poly')"
      ],
      "metadata": {
        "id": "eOyHbzQ5F9gk",
        "execution": {
          "iopub.status.busy": "2021-12-12T23:59:59.689479Z",
          "iopub.execute_input": "2021-12-12T23:59:59.689744Z",
          "iopub.status.idle": "2021-12-12T23:59:59.694792Z",
          "shell.execute_reply.started": "2021-12-12T23:59:59.689708Z",
          "shell.execute_reply": "2021-12-12T23:59:59.693988Z"
        },
        "trusted": true
      },
      "execution_count": null,
      "outputs": []
    },
    {
      "cell_type": "code",
      "source": [
        "# Training SVM - Parameters are initialised \n",
        "start = timeit.default_timer()\n",
        "svm_clf.fit(gist_train_ae.reshape(gist_train_ae.shape[0], -1), y_train_labels.reshape(-1))\n",
        "stop = timeit.default_timer()\n",
        "print(\"Total time to train SVM:\", stop-start)"
      ],
      "metadata": {
        "id": "XnaLY_6ab3ws",
        "execution": {
          "iopub.status.busy": "2021-12-12T23:59:59.696451Z",
          "iopub.execute_input": "2021-12-12T23:59:59.696798Z"
        },
        "trusted": true
      },
      "execution_count": null,
      "outputs": []
    },
    {
      "cell_type": "code",
      "source": [
        "# Prediction on SVM\n",
        "start = timeit.default_timer()\n",
        "y_pred = svm_clf.predict(gist_test_ae.reshape(gist_test_ae.shape[0], -1))\n",
        "stop = timeit.default_timer()\n",
        "print(\"Total inference time for SVM:\", stop-start)"
      ],
      "metadata": {
        "id": "kajeGZHYGFIb",
        "trusted": true
      },
      "execution_count": null,
      "outputs": []
    },
    {
      "cell_type": "code",
      "source": [
        "svm_report = metrics.classification_report(y_test_labels, y_pred, digits=5, target_names=dict.values())\n",
        "print(\"Classification report: \\n\", svm_report)\n",
        "\n",
        "# display confusion matrix\n",
        "cm_svm = confusion_matrix(y_test_labels, y_pred)\n",
        "plt.figure(figsize=(10,8))\n",
        "sns.heatmap(cm_svm, annot=True, xticklabels = list(dict.values()), yticklabels = list(dict.values()), fmt=\"d\")"
      ],
      "metadata": {
        "id": "RTC8iNhrDF_Y",
        "trusted": true
      },
      "execution_count": null,
      "outputs": []
    },
    {
      "cell_type": "code",
      "source": [
        ""
      ],
      "metadata": {
        "id": "IXIc3tsGSCAh"
      },
      "execution_count": null,
      "outputs": []
    },
    {
      "cell_type": "code",
      "source": [
        ""
      ],
      "metadata": {
        "id": "GsUOeCt9sWAH"
      },
      "execution_count": null,
      "outputs": []
    }
  ]
}