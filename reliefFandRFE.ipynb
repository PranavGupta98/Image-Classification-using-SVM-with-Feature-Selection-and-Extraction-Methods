{
  "cells": [
    {
      "cell_type": "code",
      "execution_count": null,
      "metadata": {
        "id": "Xv3HgJ_ACiA8"
      },
      "outputs": [],
      "source": [
        "import tensorflow as tf\n",
        "from tensorflow import keras\n",
        "from sklearn import svm, metrics\n",
        "import timeit\n",
        "import matplotlib.pyplot as plt \n",
        "import numpy as np\n",
        "from sklearn.model_selection import GridSearchCV\n",
        "from sklearn.feature_selection import RFE\n",
        "from sklearn.tree import DecisionTreeClassifier\n",
        "import random"
      ]
    },
    {
      "cell_type": "code",
      "execution_count": null,
      "metadata": {
        "colab": {
          "base_uri": "https://localhost:8080/"
        },
        "id": "cIZ3kVr9Di8t",
        "outputId": "afb22eb7-d6a6-432c-a497-2ecb34e68f02"
      },
      "outputs": [
        {
          "output_type": "stream",
          "name": "stdout",
          "text": [
            "Downloading data from https://www.cs.toronto.edu/~kriz/cifar-10-python.tar.gz\n",
            "170500096/170498071 [==============================] - 4s 0us/step\n",
            "170508288/170498071 [==============================] - 4s 0us/step\n"
          ]
        }
      ],
      "source": [
        "(x_train_og, y_train_og), (x_test_og, y_test_og) = keras.datasets.cifar10.load_data()\n",
        "assert x_train_og.shape == (50000, 32, 32, 3)\n",
        "assert x_test_og.shape == (10000, 32, 32, 3)\n",
        "assert y_train_og.shape == (50000, 1)\n",
        "assert y_test_og.shape == (10000, 1) \n"
      ]
    },
    {
      "cell_type": "code",
      "execution_count": null,
      "metadata": {
        "colab": {
          "base_uri": "https://localhost:8080/",
          "height": 37
        },
        "id": "-vxTfq_GvWlo",
        "outputId": "caf567ac-a0a2-479c-d874-e77df78e574c"
      },
      "outputs": [
        {
          "output_type": "execute_result",
          "data": {
            "application/vnd.google.colaboratory.intrinsic+json": {
              "type": "string"
            },
            "text/plain": [
              "'/device:GPU:0'"
            ]
          },
          "metadata": {},
          "execution_count": 3
        }
      ],
      "source": [
        "tf.test.gpu_device_name()\n"
      ]
    },
    {
      "cell_type": "markdown",
      "metadata": {
        "id": "WD6oRTooTmiO"
      },
      "source": [
        "Splitting the data: Train/Validation/Test\n",
        "& Samples "
      ]
    },
    {
      "cell_type": "code",
      "execution_count": null,
      "metadata": {
        "colab": {
          "base_uri": "https://localhost:8080/"
        },
        "id": "kok-JvKef4VX",
        "outputId": "74d2740a-944e-4d1d-f15e-419ec434c3f3"
      },
      "outputs": [
        {
          "output_type": "execute_result",
          "data": {
            "text/plain": [
              "(array([0, 1, 2, 3, 4, 5, 6, 7, 8, 9], dtype=uint8),\n",
              " array([862, 862, 807, 877, 835, 886, 832, 832, 848, 859]))"
            ]
          },
          "metadata": {},
          "execution_count": 4
        }
      ],
      "source": [
        "full_training_observations = x_train_og\n",
        "full_training_labels = y_train_og\n",
        "\n",
        "x_train =  full_training_observations[:35000,:]\n",
        "x_validate =  full_training_observations[35000:,:]\n",
        "x_test = x_test_og\n",
        "\n",
        "y_train =  full_training_labels[:35000]\n",
        "y_validate = full_training_labels[35000:]\n",
        "\n",
        "\n",
        "train_sample = x_train[:20000,:]\n",
        "train_sample_labels = y_train[:20000,:]\n",
        "\n",
        "validation_sample = x_validate[6500:]\n",
        "validation_sample_labels = y_validate[6500:,:]\n",
        "\n",
        "np.unique(validation_sample_labels, return_counts=True)"
      ]
    },
    {
      "cell_type": "markdown",
      "metadata": {
        "id": "FQtuoVaHsrrC"
      },
      "source": [
        "RGB Conversion to Grayscale"
      ]
    },
    {
      "cell_type": "code",
      "execution_count": null,
      "metadata": {
        "colab": {
          "base_uri": "https://localhost:8080/",
          "height": 232
        },
        "id": "2ActAKdFTBWi",
        "outputId": "d8d35234-6a63-41c9-fc20-0e39354b5ad4"
      },
      "outputs": [
        {
          "ename": "NameError",
          "evalue": "ignored",
          "output_type": "error",
          "traceback": [
            "\u001b[0;31m---------------------------------------------------------------------------\u001b[0m",
            "\u001b[0;31mNameError\u001b[0m                                 Traceback (most recent call last)",
            "\u001b[0;32m<ipython-input-1-4c8bbbd57c4a>\u001b[0m in \u001b[0;36m<module>\u001b[0;34m()\u001b[0m\n\u001b[1;32m      1\u001b[0m \u001b[0;31m#print(x_train[1].size) #-> 32x32x3 = 3072\u001b[0m\u001b[0;34m\u001b[0m\u001b[0;34m\u001b[0m\u001b[0;34m\u001b[0m\u001b[0m\n\u001b[1;32m      2\u001b[0m \u001b[0;31m#rgb_weights = np.array([0.299, 0.587,  0.114])\u001b[0m\u001b[0;34m\u001b[0m\u001b[0;34m\u001b[0m\u001b[0;34m\u001b[0m\u001b[0m\n\u001b[0;32m----> 3\u001b[0;31m \u001b[0mrgb_weights\u001b[0m \u001b[0;34m=\u001b[0m \u001b[0mnp\u001b[0m\u001b[0;34m.\u001b[0m\u001b[0marray\u001b[0m\u001b[0;34m(\u001b[0m\u001b[0;34m[\u001b[0m\u001b[0;36m1\u001b[0m\u001b[0;34m/\u001b[0m\u001b[0;36m3\u001b[0m\u001b[0;34m,\u001b[0m \u001b[0;36m1\u001b[0m\u001b[0;34m/\u001b[0m\u001b[0;36m3\u001b[0m\u001b[0;34m,\u001b[0m \u001b[0;36m1\u001b[0m\u001b[0;34m/\u001b[0m\u001b[0;36m3\u001b[0m\u001b[0;34m]\u001b[0m\u001b[0;34m)\u001b[0m\u001b[0;34m\u001b[0m\u001b[0;34m\u001b[0m\u001b[0m\n\u001b[0m\u001b[1;32m      4\u001b[0m \u001b[0;31m#Train Data in Gray:\u001b[0m\u001b[0;34m\u001b[0m\u001b[0;34m\u001b[0m\u001b[0;34m\u001b[0m\u001b[0m\n\u001b[1;32m      5\u001b[0m \u001b[0mn1\u001b[0m \u001b[0;34m=\u001b[0m \u001b[0mlen\u001b[0m\u001b[0;34m(\u001b[0m\u001b[0mtrain_sample\u001b[0m\u001b[0;34m)\u001b[0m\u001b[0;34m\u001b[0m\u001b[0;34m\u001b[0m\u001b[0m\n",
            "\u001b[0;31mNameError\u001b[0m: name 'np' is not defined"
          ]
        }
      ],
      "source": [
        "#print(x_train[1].size) #-> 32x32x3 = 3072\n",
        "#rgb_weights = np.array([0.299, 0.587,  0.114])\n",
        "rgb_weights = np.array([1/3, 1/3, 1/3]) \n",
        "#Train Data in Gray:\n",
        "n1 = len(train_sample)\n",
        "train_sample_gray = np.zeros((n1, 32, 32,))\n",
        "for x in range(n1):\n",
        "  for i in range(0,32):\n",
        "    train_sample_gray[x,i] = np.dot(train_sample[x,i],rgb_weights)/255\n",
        "\n",
        "train_sample_gray=train_sample_gray.reshape((n1,1024)) \n",
        "\n",
        "#Validation Data in Gray:\n",
        "n2 = len(validation_sample)\n",
        "validation_sample_gray = np.zeros((n2, 32, 32,))\n",
        "for x in range(n2):\n",
        "  for i in range(0,32):\n",
        "    validation_sample_gray[x,i] = np.dot(validation_sample[x,i],rgb_weights)/255\n",
        "\n",
        "validation_sample_gray = validation_sample_gray.reshape((n2,1024)) \n",
        "\n",
        "#Test Data in Gray:\n",
        "test_data_gray = np.zeros((10000, 32, 32,))\n",
        "for x in range(0,1000):\n",
        "  for i in range(0,32):\n",
        "    test_data_gray[x,i] = np.dot(x_test[x,i],rgb_weights)/255\n",
        "\n",
        "test_data_gray=test_data_gray.reshape((10000,1024))"
      ]
    },
    {
      "cell_type": "markdown",
      "metadata": {
        "id": "mx2bFEdpwL51"
      },
      "source": [
        "Final from of data with the RGB scale"
      ]
    },
    {
      "cell_type": "code",
      "execution_count": null,
      "metadata": {
        "id": "l-u8cy3IwK_3"
      },
      "outputs": [],
      "source": [
        "train_sample_rgb = train_sample.reshape((len(train_sample), 3072))\n",
        "validation_sample_rgb = validation_sample.reshape((len(validation_sample), 3072))\n",
        "test_data_rgb = x_test.reshape((10000, 3072))"
      ]
    },
    {
      "cell_type": "markdown",
      "metadata": {
        "id": "abmw8NOIs-PV"
      },
      "source": [
        "# Classifiers: No Feature Selection"
      ]
    },
    {
      "cell_type": "markdown",
      "metadata": {
        "id": "qp2bbq5rtGNK"
      },
      "source": [
        "\n",
        "1. SVM\n",
        "\n"
      ]
    },
    {
      "cell_type": "code",
      "execution_count": null,
      "metadata": {
        "colab": {
          "base_uri": "https://localhost:8080/",
          "height": 232
        },
        "id": "4XmwulZaDrWC",
        "outputId": "4cf9efbf-5e3b-4ea3-df60-05aeeb6ff627"
      },
      "outputs": [
        {
          "ename": "NameError",
          "evalue": "ignored",
          "output_type": "error",
          "traceback": [
            "\u001b[0;31m---------------------------------------------------------------------------\u001b[0m",
            "\u001b[0;31mNameError\u001b[0m                                 Traceback (most recent call last)",
            "\u001b[0;32m<ipython-input-6-03dc469ab6ee>\u001b[0m in \u001b[0;36m<module>\u001b[0;34m()\u001b[0m\n\u001b[1;32m      2\u001b[0m \u001b[0mmodel\u001b[0m \u001b[0;34m=\u001b[0m \u001b[0msvm\u001b[0m\u001b[0;34m.\u001b[0m\u001b[0mSVC\u001b[0m\u001b[0;34m(\u001b[0m\u001b[0mgamma\u001b[0m\u001b[0;34m=\u001b[0m\u001b[0;36m0.1\u001b[0m\u001b[0;34m,\u001b[0m \u001b[0mC\u001b[0m\u001b[0;34m=\u001b[0m\u001b[0;36m10\u001b[0m\u001b[0;34m,\u001b[0m \u001b[0mkernel\u001b[0m\u001b[0;34m=\u001b[0m\u001b[0;34m\"poly\"\u001b[0m\u001b[0;34m)\u001b[0m\u001b[0;34m\u001b[0m\u001b[0;34m\u001b[0m\u001b[0m\n\u001b[1;32m      3\u001b[0m \u001b[0mstart\u001b[0m \u001b[0;34m=\u001b[0m \u001b[0mtimeit\u001b[0m\u001b[0;34m.\u001b[0m\u001b[0mdefault_timer\u001b[0m\u001b[0;34m(\u001b[0m\u001b[0;34m)\u001b[0m\u001b[0;34m\u001b[0m\u001b[0;34m\u001b[0m\u001b[0m\n\u001b[0;32m----> 4\u001b[0;31m \u001b[0mmodel\u001b[0m\u001b[0;34m.\u001b[0m\u001b[0mfit\u001b[0m\u001b[0;34m(\u001b[0m\u001b[0mtrain_sample_gray\u001b[0m\u001b[0;34m,\u001b[0m\u001b[0mtrain_sample_labels\u001b[0m\u001b[0;34m)\u001b[0m\u001b[0;34m\u001b[0m\u001b[0;34m\u001b[0m\u001b[0m\n\u001b[0m\u001b[1;32m      5\u001b[0m \u001b[0mstop\u001b[0m \u001b[0;34m=\u001b[0m \u001b[0mtimeit\u001b[0m\u001b[0;34m.\u001b[0m\u001b[0mdefault_timer\u001b[0m\u001b[0;34m(\u001b[0m\u001b[0;34m)\u001b[0m\u001b[0;34m\u001b[0m\u001b[0;34m\u001b[0m\u001b[0m\n\u001b[1;32m      6\u001b[0m \u001b[0mprint\u001b[0m\u001b[0;34m(\u001b[0m\u001b[0;34m'Training Time: '\u001b[0m\u001b[0;34m,\u001b[0m \u001b[0mstop\u001b[0m \u001b[0;34m-\u001b[0m \u001b[0mstart\u001b[0m\u001b[0;34m)\u001b[0m\u001b[0;34m\u001b[0m\u001b[0;34m\u001b[0m\u001b[0m\n",
            "\u001b[0;31mNameError\u001b[0m: name 'train_sample_gray' is not defined"
          ]
        }
      ],
      "source": [
        "#Training Model\n",
        "model = svm.SVC(gamma=0.1, C=10, kernel=\"poly\")\n",
        "start = timeit.default_timer()\n",
        "model.fit(train_sample_gray,train_sample_labels) \n",
        "stop = timeit.default_timer()\n",
        "print('Training Time: ', stop - start)  \n"
      ]
    },
    {
      "cell_type": "code",
      "execution_count": null,
      "metadata": {
        "id": "U0actd1CtgHG"
      },
      "outputs": [],
      "source": [
        "start = timeit.default_timer()\n",
        "acc = metrics.accuracy_score(model.predict(validation_sample_gray),validation_sample_labels)\n",
        "stop = timeit.default_timer()\n",
        "print('Prediction Time: ', stop - start)  \n",
        "print('Accuracy:', acc) "
      ]
    },
    {
      "cell_type": "markdown",
      "metadata": {
        "id": "rsTKxtWMtKxg"
      },
      "source": [
        "2. Decision Tree Classifier"
      ]
    },
    {
      "cell_type": "code",
      "execution_count": null,
      "metadata": {
        "id": "Bms2xywDegpS"
      },
      "outputs": [],
      "source": [
        "tree = DecisionTreeClassifier(criterion=\"gini\")\n",
        "start = timeit.default_timer()\n",
        "tree.fit(train_sample_gray,train_sample_labels)\n",
        "stop = timeit.default_timer()\n",
        "print('Training Time: ', stop - start)  \n"
      ]
    },
    {
      "cell_type": "code",
      "execution_count": null,
      "metadata": {
        "id": "vXxPz4udxY8f"
      },
      "outputs": [],
      "source": [
        "start = timeit.default_timer()\n",
        "acc = metrics.accuracy_score(tree.predict(validation_sample_gray),validation_sample_labels)\n",
        "stop = timeit.default_timer()\n",
        "print('Prediction Time: ', stop - start) \n",
        "print(acc) "
      ]
    },
    {
      "cell_type": "markdown",
      "metadata": {
        "id": "7BN1OLeuxbv5"
      },
      "source": [
        "# Recursive Feature Elimination\n",
        "--With Decision Trees--"
      ]
    },
    {
      "cell_type": "code",
      "execution_count": null,
      "metadata": {
        "id": "LxcF4vBHlhqV"
      },
      "outputs": [],
      "source": [
        "def RFE_features(step, features):\n",
        "  estimator = DecisionTreeClassifier()\n",
        "  selector = RFE(estimator, step=step, n_features_to_select=features)\n",
        "  selector = selector.fit(train_sample_rgb, train_sample_labels)\n",
        "  return list(selector.get_support(indices=True))"
      ]
    },
    {
      "cell_type": "code",
      "execution_count": null,
      "metadata": {
        "id": "Ai-6p8f5K8cx"
      },
      "outputs": [],
      "source": [
        "def run_selected_features_on_SVM(indices):\n",
        "\n",
        "  selected_train = train_sample_rgb[:, indices]\n",
        "  selected_validation = validation_sample_rgb[:, indices]\n",
        "\n",
        "  model = svm.SVC(gamma=0.1, C=10, kernel=\"poly\")\n",
        "\n",
        "  start = timeit.default_timer()\n",
        "  model.fit(selected_train,train_sample_labels) \n",
        "  stop = timeit.default_timer()\n",
        "\n",
        "  train_time = stop - start\n",
        "\n",
        "  start = timeit.default_timer()\n",
        "  acc = metrics.accuracy_score(model.predict(selected_validation),validation_sample_labels.reshape((len(selected_validation), )))\n",
        "  stop = timeit.default_timer()\n",
        "\n",
        "  prediction_time = stop - start\n",
        "\n",
        "  return [train_time, prediction_time, acc]"
      ]
    },
    {
      "cell_type": "code",
      "execution_count": null,
      "metadata": {
        "id": "eZAOcNClnyCE"
      },
      "outputs": [],
      "source": [
        "steps = [0.1]\n",
        "n_features = [700, 800, 900, 1100]\n",
        "\n",
        "\n",
        "#steps = [0.01, 0.05, 0.1]\n",
        "#n_features = [250, 300, 350, 400, 450, 500]\n",
        "\n",
        "\n",
        "results = np.zeros((len(steps), len(n_features), 3))\n",
        "\n",
        "time_to_select_features = {}\n",
        "for x in steps:\n",
        "  time_to_select_features[x] = []\n",
        "\n",
        "\n",
        "\n",
        "for i in range(len(steps)):\n",
        "  for j in range(len(n_features)):\n",
        "    start = timeit.default_timer()\n",
        "    indices = RFE_features(steps[i], n_features[j])\n",
        "    stop = timeit.default_timer()\n",
        "    time_to_select_features[steps[i]].append(stop - start)\n",
        "    res = run_selected_features_on_SVM(indices)\n",
        "    print(res)\n",
        "    results[i, j] = res"
      ]
    },
    {
      "cell_type": "code",
      "execution_count": null,
      "metadata": {
        "colab": {
          "base_uri": "https://localhost:8080/"
        },
        "id": "nM8JcX1T7ZDX",
        "outputId": "d512c800-4d5c-4ac4-98a6-e9272376b410"
      },
      "outputs": [
        {
          "name": "stdout",
          "output_type": "stream",
          "text": [
            "{0.1: [341.86986907300025, 346.1487343400004, 351.48958407699956, 326.60679819600045]}\n",
            "[[[168.40891511  81.10075825   0.45247059]\n",
            "  [181.32610126  92.16081307   0.454     ]\n",
            "  [200.54152799 100.91550172   0.44258824]\n",
            "  [239.36692643 121.84208316   0.45705882]]]\n"
          ]
        }
      ],
      "source": [
        "print(time_to_select_features)\n",
        "print(results)"
      ]
    },
    {
      "cell_type": "markdown",
      "metadata": {
        "id": "qbzpLqCA83uW"
      },
      "source": [
        "# ReliefF"
      ]
    },
    {
      "cell_type": "code",
      "execution_count": null,
      "metadata": {
        "id": "e4S7CevObnoH"
      },
      "outputs": [],
      "source": [
        "def get_kth_nearest_hits_and_misses(rand_instance, k=10):\n",
        "\n",
        "  nearest_neighbours = {}\n",
        "  for x in range(10):\n",
        "    nearest_neighbours[x] = []\n",
        "\n",
        "\n",
        "  # i searches for values before the instance\n",
        "  # j searches for values after the instance\n",
        "  i=1\n",
        "  j=1\n",
        "\n",
        "  \n",
        "  items_found = 0 # we should end up with k*10 items found\n",
        "  while(items_found<10*k):\n",
        "\n",
        "    if(i<=rand_instance): # if i=rand_instance then rand_instance-i = 0 (first element in array)\n",
        "      class_new_instance = int(train_sample_labels[rand_instance-i])\n",
        "      if(len(nearest_neighbours[class_new_instance]) < k):\n",
        "        nearest_neighbours[class_new_instance].append(rand_instance-i)\n",
        "        items_found+=1\n",
        "\n",
        "\n",
        "    if (j<=len(train_sample_rgb)-1-rand_instance): # if j=len(train_sample)-1-rand_instance then rand_instance+j = len(train_sample)-1 (last element in array)\n",
        "      class_new_instance = int(train_sample_labels[rand_instance+j])\n",
        "      if(len(nearest_neighbours[class_new_instance]) < k):\n",
        "        nearest_neighbours[class_new_instance].append(rand_instance+j)\n",
        "        items_found+=1\n",
        "\n",
        "  \n",
        "    #update i and j\n",
        "    i+=1 \n",
        "    j+=1\n",
        "\n",
        "\n",
        "  return nearest_neighbours"
      ]
    },
    {
      "cell_type": "code",
      "execution_count": null,
      "metadata": {
        "id": "234bGDWtO9UM"
      },
      "outputs": [],
      "source": [
        "def sum_dist_point_list(point, list):\n",
        "  d = np.zeros(3072)\n",
        "  for x in list:\n",
        "    d+=np.absolute(point - train_sample_rgb[x])\n",
        "  return d\n",
        "\n"
      ]
    },
    {
      "cell_type": "code",
      "execution_count": null,
      "metadata": {
        "id": "HycfTqxVZf6I"
      },
      "outputs": [],
      "source": [
        "def reliefF(k,n):\n",
        "\n",
        "  weights = np.zeros(3072)\n",
        "\n",
        "\n",
        "  for i in range(0,n):\n",
        "    rand_instance = random.randint(0,len(train_sample_rgb)-1)\n",
        "    class_of_instance = int(y_train[rand_instance])\n",
        "    nearest_neighbours = get_kth_nearest_hits_and_misses(rand_instance, k)\n",
        "    class_of_misses = [x for x in range(0,10) if x != class_of_instance]\n",
        "\n",
        "    sum_dist_hit = sum_dist_point_list(train_sample_rgb[rand_instance], nearest_neighbours[class_of_instance])\n",
        "    sum_dist_hit = sum_dist_hit/(n*k)\n",
        "\n",
        "    sum_dist_misses = 0\n",
        "\n",
        "    for c in class_of_misses:\n",
        "      sum_dist_misses += sum_dist_point_list(train_sample_rgb[rand_instance], nearest_neighbours[c])\n",
        "    \n",
        "    sum_dist_misses = sum_dist_misses/(10*n*k) # the 10 is there bec probability of each class is 1/10\n",
        "\n",
        "    weights += sum_dist_misses - sum_dist_hit \n",
        "\n",
        "    weight_indices_sorted = np.argsort(-weights) #negative so we can get it in desecending order\n",
        "\n",
        "    return weight_indices_sorted"
      ]
    },
    {
      "cell_type": "code",
      "execution_count": null,
      "metadata": {
        "id": "Fezd2vmBTk0Q"
      },
      "outputs": [],
      "source": [
        "def svm_predict_relieff(weights, n_features=500):\n",
        "\n",
        "\n",
        "  best_features_index = weights[:n_features]\n",
        "\n",
        "  selected_train = train_sample_rgb[:,best_features_index]\n",
        "  selected_valid = validation_sample_rgb[:,best_features_index]\n",
        "\n",
        "  model = svm.SVC(gamma=0.1, C=10, kernel=\"poly\")\n",
        "\n",
        "  #training model + time\n",
        "  start_train = timeit.default_timer()\n",
        "  model.fit(selected_train,train_sample_labels)\n",
        "  stop_train = timeit.default_timer()\n",
        "  train_time = stop_train-start_train\n",
        "\n",
        "  #making predictions + time\n",
        "  start_prediction = timeit.default_timer()\n",
        "  acc = metrics.accuracy_score(model.predict(selected_valid),validation_sample_labels)\n",
        "  stop_prediction = timeit.default_timer()\n",
        "  prediction_time = stop_prediction-start_prediction\n",
        "\n",
        "  return [train_time, prediction_time, acc]"
      ]
    },
    {
      "cell_type": "code",
      "execution_count": null,
      "metadata": {
        "colab": {
          "base_uri": "https://localhost:8080/",
          "height": 429
        },
        "id": "9yF3URHmn5Fn",
        "outputId": "f4e860f9-4756-437c-ceaa-9b486d25dfb9"
      },
      "outputs": [
        {
          "name": "stderr",
          "output_type": "stream",
          "text": [
            "/usr/local/lib/python3.7/dist-packages/sklearn/utils/validation.py:985: DataConversionWarning: A column-vector y was passed when a 1d array was expected. Please change the shape of y to (n_samples, ), for example using ravel().\n",
            "  y = column_or_1d(y, warn=True)\n"
          ]
        },
        {
          "ename": "KeyboardInterrupt",
          "evalue": "ignored",
          "output_type": "error",
          "traceback": [
            "\u001b[0;31m---------------------------------------------------------------------------\u001b[0m",
            "\u001b[0;31mKeyboardInterrupt\u001b[0m                         Traceback (most recent call last)",
            "\u001b[0;32m<ipython-input-10-0d5c9fea2474>\u001b[0m in \u001b[0;36m<module>\u001b[0;34m()\u001b[0m\n\u001b[1;32m     19\u001b[0m       \u001b[0mstop\u001b[0m \u001b[0;34m=\u001b[0m \u001b[0mtimeit\u001b[0m\u001b[0;34m.\u001b[0m\u001b[0mdefault_timer\u001b[0m\u001b[0;34m(\u001b[0m\u001b[0;34m)\u001b[0m\u001b[0;34m\u001b[0m\u001b[0;34m\u001b[0m\u001b[0m\n\u001b[1;32m     20\u001b[0m       \u001b[0mtime_to_select_features\u001b[0m\u001b[0;34m[\u001b[0m\u001b[0mnum_neighbours\u001b[0m\u001b[0;34m[\u001b[0m\u001b[0mi\u001b[0m\u001b[0;34m]\u001b[0m\u001b[0;34m]\u001b[0m\u001b[0;34m.\u001b[0m\u001b[0mappend\u001b[0m\u001b[0;34m(\u001b[0m\u001b[0mstop\u001b[0m \u001b[0;34m-\u001b[0m \u001b[0mstart\u001b[0m\u001b[0;34m)\u001b[0m\u001b[0;34m\u001b[0m\u001b[0;34m\u001b[0m\u001b[0m\n\u001b[0;32m---> 21\u001b[0;31m       \u001b[0mres\u001b[0m \u001b[0;34m=\u001b[0m \u001b[0msvm_predict_relieff\u001b[0m\u001b[0;34m(\u001b[0m\u001b[0mweights\u001b[0m\u001b[0;34m)\u001b[0m\u001b[0;34m\u001b[0m\u001b[0;34m\u001b[0m\u001b[0m\n\u001b[0m\u001b[1;32m     22\u001b[0m       \u001b[0mprint\u001b[0m\u001b[0;34m(\u001b[0m\u001b[0mres\u001b[0m\u001b[0;34m)\u001b[0m\u001b[0;34m\u001b[0m\u001b[0;34m\u001b[0m\u001b[0m\n\u001b[1;32m     23\u001b[0m       \u001b[0mresults\u001b[0m\u001b[0;34m[\u001b[0m\u001b[0mi\u001b[0m\u001b[0;34m,\u001b[0m \u001b[0mj\u001b[0m\u001b[0;34m]\u001b[0m \u001b[0;34m=\u001b[0m \u001b[0mres\u001b[0m\u001b[0;34m\u001b[0m\u001b[0;34m\u001b[0m\u001b[0m\n",
            "\u001b[0;32m<ipython-input-9-3a8eacc8f2fd>\u001b[0m in \u001b[0;36msvm_predict_relieff\u001b[0;34m(weights, n_features)\u001b[0m\n\u001b[1;32m     11\u001b[0m   \u001b[0;31m#training model + time\u001b[0m\u001b[0;34m\u001b[0m\u001b[0;34m\u001b[0m\u001b[0;34m\u001b[0m\u001b[0m\n\u001b[1;32m     12\u001b[0m   \u001b[0mstart_train\u001b[0m \u001b[0;34m=\u001b[0m \u001b[0mtimeit\u001b[0m\u001b[0;34m.\u001b[0m\u001b[0mdefault_timer\u001b[0m\u001b[0;34m(\u001b[0m\u001b[0;34m)\u001b[0m\u001b[0;34m\u001b[0m\u001b[0;34m\u001b[0m\u001b[0m\n\u001b[0;32m---> 13\u001b[0;31m   \u001b[0mmodel\u001b[0m\u001b[0;34m.\u001b[0m\u001b[0mfit\u001b[0m\u001b[0;34m(\u001b[0m\u001b[0mselected_train\u001b[0m\u001b[0;34m,\u001b[0m\u001b[0mtrain_sample_labels\u001b[0m\u001b[0;34m)\u001b[0m\u001b[0;34m\u001b[0m\u001b[0;34m\u001b[0m\u001b[0m\n\u001b[0m\u001b[1;32m     14\u001b[0m   \u001b[0mstop_train\u001b[0m \u001b[0;34m=\u001b[0m \u001b[0mtimeit\u001b[0m\u001b[0;34m.\u001b[0m\u001b[0mdefault_timer\u001b[0m\u001b[0;34m(\u001b[0m\u001b[0;34m)\u001b[0m\u001b[0;34m\u001b[0m\u001b[0;34m\u001b[0m\u001b[0m\n\u001b[1;32m     15\u001b[0m   \u001b[0mtrain_time\u001b[0m \u001b[0;34m=\u001b[0m \u001b[0mstop_train\u001b[0m\u001b[0;34m-\u001b[0m\u001b[0mstart_train\u001b[0m\u001b[0;34m\u001b[0m\u001b[0;34m\u001b[0m\u001b[0m\n",
            "\u001b[0;32m/usr/local/lib/python3.7/dist-packages/sklearn/svm/_base.py\u001b[0m in \u001b[0;36mfit\u001b[0;34m(self, X, y, sample_weight)\u001b[0m\n\u001b[1;32m    253\u001b[0m \u001b[0;34m\u001b[0m\u001b[0m\n\u001b[1;32m    254\u001b[0m         \u001b[0mseed\u001b[0m \u001b[0;34m=\u001b[0m \u001b[0mrnd\u001b[0m\u001b[0;34m.\u001b[0m\u001b[0mrandint\u001b[0m\u001b[0;34m(\u001b[0m\u001b[0mnp\u001b[0m\u001b[0;34m.\u001b[0m\u001b[0miinfo\u001b[0m\u001b[0;34m(\u001b[0m\u001b[0;34m\"i\"\u001b[0m\u001b[0;34m)\u001b[0m\u001b[0;34m.\u001b[0m\u001b[0mmax\u001b[0m\u001b[0;34m)\u001b[0m\u001b[0;34m\u001b[0m\u001b[0;34m\u001b[0m\u001b[0m\n\u001b[0;32m--> 255\u001b[0;31m         \u001b[0mfit\u001b[0m\u001b[0;34m(\u001b[0m\u001b[0mX\u001b[0m\u001b[0;34m,\u001b[0m \u001b[0my\u001b[0m\u001b[0;34m,\u001b[0m \u001b[0msample_weight\u001b[0m\u001b[0;34m,\u001b[0m \u001b[0msolver_type\u001b[0m\u001b[0;34m,\u001b[0m \u001b[0mkernel\u001b[0m\u001b[0;34m,\u001b[0m \u001b[0mrandom_seed\u001b[0m\u001b[0;34m=\u001b[0m\u001b[0mseed\u001b[0m\u001b[0;34m)\u001b[0m\u001b[0;34m\u001b[0m\u001b[0;34m\u001b[0m\u001b[0m\n\u001b[0m\u001b[1;32m    256\u001b[0m         \u001b[0;31m# see comment on the other call to np.iinfo in this file\u001b[0m\u001b[0;34m\u001b[0m\u001b[0;34m\u001b[0m\u001b[0;34m\u001b[0m\u001b[0m\n\u001b[1;32m    257\u001b[0m \u001b[0;34m\u001b[0m\u001b[0m\n",
            "\u001b[0;32m/usr/local/lib/python3.7/dist-packages/sklearn/svm/_base.py\u001b[0m in \u001b[0;36m_dense_fit\u001b[0;34m(self, X, y, sample_weight, solver_type, kernel, random_seed)\u001b[0m\n\u001b[1;32m    331\u001b[0m             \u001b[0mepsilon\u001b[0m\u001b[0;34m=\u001b[0m\u001b[0mself\u001b[0m\u001b[0;34m.\u001b[0m\u001b[0mepsilon\u001b[0m\u001b[0;34m,\u001b[0m\u001b[0;34m\u001b[0m\u001b[0;34m\u001b[0m\u001b[0m\n\u001b[1;32m    332\u001b[0m             \u001b[0mmax_iter\u001b[0m\u001b[0;34m=\u001b[0m\u001b[0mself\u001b[0m\u001b[0;34m.\u001b[0m\u001b[0mmax_iter\u001b[0m\u001b[0;34m,\u001b[0m\u001b[0;34m\u001b[0m\u001b[0;34m\u001b[0m\u001b[0m\n\u001b[0;32m--> 333\u001b[0;31m             \u001b[0mrandom_seed\u001b[0m\u001b[0;34m=\u001b[0m\u001b[0mrandom_seed\u001b[0m\u001b[0;34m,\u001b[0m\u001b[0;34m\u001b[0m\u001b[0;34m\u001b[0m\u001b[0m\n\u001b[0m\u001b[1;32m    334\u001b[0m         )\n\u001b[1;32m    335\u001b[0m \u001b[0;34m\u001b[0m\u001b[0m\n",
            "\u001b[0;31mKeyboardInterrupt\u001b[0m: "
          ]
        }
      ],
      "source": [
        "#random.seed(5)\n",
        "num_neighbours = [5, 10, 15, 20, 25] #list of k's we want to try\n",
        "num_instances = [10,50, 100,200] #list of n's we want to try\n",
        "\n",
        "\n",
        "results = np.zeros((len(num_neighbours), len(num_instances), 3))\n",
        "\n",
        "time_to_select_features = {}\n",
        "for x in num_neighbours:\n",
        "  time_to_select_features[x] = []\n",
        "\n",
        "\n",
        "for i in range(len(num_neighbours)):\n",
        "  for j in range(len(num_instances)):\n",
        "    start = timeit.default_timer()\n",
        "    weights = reliefF(k=num_neighbours[i], n=num_instances[j])\n",
        "    stop = timeit.default_timer()\n",
        "    time_to_select_features[num_neighbours[i]].append(stop - start)\n",
        "    res = svm_predict_relieff(weights)\n",
        "    print(res)\n",
        "    results[i, j] = res\n",
        "\n",
        "\n"
      ]
    },
    {
      "cell_type": "code",
      "execution_count": null,
      "metadata": {
        "colab": {
          "base_uri": "https://localhost:8080/"
        },
        "id": "q-yuVklVbLPH",
        "outputId": "4cd759b1-8d76-4d84-932d-e3e26f776d61"
      },
      "outputs": [
        {
          "name": "stderr",
          "output_type": "stream",
          "text": [
            "/usr/local/lib/python3.7/dist-packages/sklearn/utils/validation.py:985: DataConversionWarning: A column-vector y was passed when a 1d array was expected. Please change the shape of y to (n_samples, ), for example using ravel().\n",
            "  y = column_or_1d(y, warn=True)\n"
          ]
        },
        {
          "name": "stdout",
          "output_type": "stream",
          "text": [
            "[182.87745250699982, 57.42041029899997, 0.4475294117647059]\n"
          ]
        }
      ],
      "source": [
        "num_features = [500]\n",
        "results = np.zeros((len(num_features), 3))\n",
        "weights = reliefF(k=25, n=50)\n",
        "\n",
        "for i in range(len(num_features)):\n",
        "  res = svm_predict_relieff(weights, num_features[i])\n",
        "  print(res)\n",
        "  results[i] = res\n"
      ]
    },
    {
      "cell_type": "code",
      "execution_count": null,
      "metadata": {
        "colab": {
          "base_uri": "https://localhost:8080/"
        },
        "id": "NTwRk04bSSpu",
        "outputId": "fd81dee7-8f4f-4024-9956-e406eda37fc5"
      },
      "outputs": [
        {
          "data": {
            "text/plain": [
              "array([[[3.50702813e+02, 5.85608068e+01, 4.19294118e-01],\n",
              "        [2.92040771e+02, 5.97351894e+01, 4.32588235e-01],\n",
              "        [4.23118944e+02, 5.64582362e+01, 3.97647059e-01],\n",
              "        [2.99742749e+02, 5.65666655e+01, 4.23764706e-01]],\n",
              "\n",
              "       [[4.89353542e+02, 5.73470438e+01, 3.98235294e-01],\n",
              "        [2.98741014e+02, 5.69045656e+01, 4.14470588e-01],\n",
              "        [3.28922386e+02, 5.73482608e+01, 4.14235294e-01],\n",
              "        [9.02668453e+02, 5.84017194e+01, 3.61647059e-01]],\n",
              "\n",
              "       [[2.95438535e+02, 5.60317150e+01, 4.20352941e-01],\n",
              "        [4.19576223e+02, 5.64589617e+01, 3.98000000e-01],\n",
              "        [2.72280782e+02, 5.86172357e+01, 4.33176471e-01],\n",
              "        [2.89483794e+02, 6.10252594e+01, 4.19647059e-01]],\n",
              "\n",
              "       [[3.28096487e+02, 5.97862002e+01, 4.33294118e-01],\n",
              "        [2.78778695e+02, 6.24166572e+01, 4.47294118e-01],\n",
              "        [3.43730168e+02, 5.95704243e+01, 4.30235294e-01],\n",
              "        [4.18718760e+02, 6.01825586e+01, 4.06470588e-01]]])"
            ]
          },
          "execution_count": 14,
          "metadata": {},
          "output_type": "execute_result"
        }
      ],
      "source": [
        "results"
      ]
    },
    {
      "cell_type": "markdown",
      "metadata": {
        "id": "K_2o0o-lHbIQ"
      },
      "source": [
        "# Running ReliefF and RFE on the full training and testing set\n",
        "\n",
        "\n"
      ]
    },
    {
      "cell_type": "code",
      "execution_count": null,
      "metadata": {
        "id": "bFPQKfkGJjKK"
      },
      "outputs": [],
      "source": [
        "# the functions we used earlier are call upon \"train_sample\" and \"validation_sample\"\n",
        "#here we make an adjustment where we make the \"samples\" be the full training and testing sets\n",
        "\n",
        "\n",
        "train_sample_rgb = full_training_observations.reshape((50000, 3072)) # make the train \"sample\", the full training set as our classifier uses \"train_sample_rg\"\n",
        "train_sample_labels = full_training_labels\n",
        "\n",
        "\n",
        "validation_sample_rgb = test_data_rgb.reshape((10000, 3072))\n",
        "validation_sample_labels = y_test_og # make the \"validation sample\" be equal to the full testing set\n"
      ]
    },
    {
      "cell_type": "code",
      "execution_count": null,
      "metadata": {
        "colab": {
          "base_uri": "https://localhost:8080/",
          "height": 232
        },
        "id": "bLnhJcXIH2mX",
        "outputId": "c88081ef-9f53-4426-a469-59912137bb36"
      },
      "outputs": [
        {
          "ename": "NameError",
          "evalue": "ignored",
          "output_type": "error",
          "traceback": [
            "\u001b[0;31m---------------------------------------------------------------------------\u001b[0m",
            "\u001b[0;31mNameError\u001b[0m                                 Traceback (most recent call last)",
            "\u001b[0;32m<ipython-input-11-1a15e5e34bd4>\u001b[0m in \u001b[0;36m<module>\u001b[0;34m()\u001b[0m\n\u001b[1;32m      5\u001b[0m \u001b[0;32mwith\u001b[0m\u001b[0;34m(\u001b[0m\u001b[0mtf\u001b[0m\u001b[0;34m.\u001b[0m\u001b[0mdevice\u001b[0m\u001b[0;34m(\u001b[0m\u001b[0;34m'/device:GPU:0'\u001b[0m\u001b[0;34m)\u001b[0m\u001b[0;34m)\u001b[0m\u001b[0;34m:\u001b[0m\u001b[0;34m\u001b[0m\u001b[0;34m\u001b[0m\u001b[0m\n\u001b[1;32m      6\u001b[0m   \u001b[0mstart\u001b[0m \u001b[0;34m=\u001b[0m \u001b[0mtimeit\u001b[0m\u001b[0;34m.\u001b[0m\u001b[0mdefault_timer\u001b[0m\u001b[0;34m(\u001b[0m\u001b[0;34m)\u001b[0m\u001b[0;34m\u001b[0m\u001b[0;34m\u001b[0m\u001b[0m\n\u001b[0;32m----> 7\u001b[0;31m   \u001b[0mindices\u001b[0m \u001b[0;34m=\u001b[0m \u001b[0mRFE_features\u001b[0m\u001b[0;34m(\u001b[0m\u001b[0mstep\u001b[0m\u001b[0;34m=\u001b[0m\u001b[0;36m0.1\u001b[0m\u001b[0;34m,\u001b[0m \u001b[0mfeatures\u001b[0m\u001b[0;34m=\u001b[0m\u001b[0;36m100\u001b[0m\u001b[0;34m)\u001b[0m\u001b[0;34m\u001b[0m\u001b[0;34m\u001b[0m\u001b[0m\n\u001b[0m\u001b[1;32m      8\u001b[0m   \u001b[0mstop\u001b[0m \u001b[0;34m=\u001b[0m \u001b[0mtimeit\u001b[0m\u001b[0;34m.\u001b[0m\u001b[0mdefault_timer\u001b[0m\u001b[0;34m(\u001b[0m\u001b[0;34m)\u001b[0m\u001b[0;34m\u001b[0m\u001b[0;34m\u001b[0m\u001b[0m\n\u001b[1;32m      9\u001b[0m   \u001b[0mtime_to_select_features\u001b[0m \u001b[0;34m=\u001b[0m \u001b[0mstop\u001b[0m \u001b[0;34m-\u001b[0m \u001b[0mstart\u001b[0m\u001b[0;34m\u001b[0m\u001b[0;34m\u001b[0m\u001b[0m\n",
            "\u001b[0;31mNameError\u001b[0m: name 'RFE_features' is not defined"
          ]
        }
      ],
      "source": [
        "# the RFE Algo\n",
        "\n",
        "time_to_select_features = 0\n",
        "\n",
        "\n",
        "start = timeit.default_timer()\n",
        "indices = RFE_features(step=0.1, features=100)\n",
        "stop = timeit.default_timer()\n",
        "time_to_select_features = stop - start\n",
        "res = run_selected_features_on_SVM(indices)\n",
        "print(res)\n",
        "print(time_to_select_features)"
      ]
    },
    {
      "cell_type": "code",
      "execution_count": null,
      "metadata": {
        "colab": {
          "base_uri": "https://localhost:8080/"
        },
        "id": "xvE1Pn3u50pm",
        "outputId": "92ca6b6c-8063-4f0b-c57b-e64b31a6b20e"
      },
      "outputs": [
        {
          "name": "stdout",
          "output_type": "stream",
          "text": [
            "0.006503205000058188\n"
          ]
        },
        {
          "name": "stderr",
          "output_type": "stream",
          "text": [
            "/usr/local/lib/python3.7/dist-packages/sklearn/utils/validation.py:985: DataConversionWarning: A column-vector y was passed when a 1d array was expected. Please change the shape of y to (n_samples, ), for example using ravel().\n",
            "  y = column_or_1d(y, warn=True)\n"
          ]
        },
        {
          "name": "stdout",
          "output_type": "stream",
          "text": [
            "[3986.566000233, 120.929680233, 0.4538]\n"
          ]
        }
      ],
      "source": [
        "#with reliefF\n",
        "\n",
        "start = timeit.default_timer()\n",
        "weights = reliefF(k=25, n=50)\n",
        "stop = timeit.default_timer()\n",
        "print(stop-start)\n",
        "\n",
        "res = svm_predict_relieff(weights, n_features=300)\n",
        "print(res)\n"
      ]
    },
    {
      "cell_type": "code",
      "execution_count": null,
      "metadata": {
        "colab": {
          "base_uri": "https://localhost:8080/"
        },
        "id": "ooX0sW-rbODt",
        "outputId": "d0fc2d37-0d06-4833-a87b-b73bd4cc91d9"
      },
      "outputs": [
        {
          "output_type": "stream",
          "name": "stderr",
          "text": [
            "/usr/local/lib/python3.7/dist-packages/sklearn/utils/validation.py:985: DataConversionWarning: A column-vector y was passed when a 1d array was expected. Please change the shape of y to (n_samples, ), for example using ravel().\n",
            "  y = column_or_1d(y, warn=True)\n"
          ]
        }
      ],
      "source": [
        "\n",
        "model = svm.SVC(gamma=0.1, C=10, kernel=\"poly\")\n",
        "start = timeit.default_timer()\n",
        "model.fit(train_sample_rgb,train_sample_labels) \n",
        "stop = timeit.default_timer() \n",
        "print('Training Time: ', stop - start) \n",
        "start = timeit.default_timer()\n",
        "acc = metrics.accuracy_score(tree.predict(validation_sample_rgb),validation_sample_labels)\n",
        "stop = timeit.default_timer()\n",
        "print('Prediction Time: ', stop - start) \n",
        "print(acc)  "
      ]
    }
  ],
  "metadata": {
    "accelerator": "GPU",
    "colab": {
      "collapsed_sections": [
        "abmw8NOIs-PV"
      ],
      "name": "reliefFandRFE.ipynb",
      "provenance": []
    },
    "kernelspec": {
      "display_name": "Python 3",
      "name": "python3"
    },
    "language_info": {
      "name": "python"
    }
  },
  "nbformat": 4,
  "nbformat_minor": 0
}